{
 "cells": [
  {
   "cell_type": "code",
   "execution_count": 1,
   "id": "da8cc0cd",
   "metadata": {},
   "outputs": [
    {
     "name": "stdout",
     "output_type": "stream",
     "text": [
      "Defaulting to user installation because normal site-packages is not writeable\n",
      "Requirement already satisfied: qrcode in c:\\users\\lenovo\\appdata\\roaming\\python\\python311\\site-packages (7.4.2)\n",
      "Requirement already satisfied: typing-extensions in c:\\programdata\\anaconda3\\lib\\site-packages (from qrcode) (4.7.1)\n",
      "Requirement already satisfied: pypng in c:\\users\\lenovo\\appdata\\roaming\\python\\python311\\site-packages (from qrcode) (0.20220715.0)\n",
      "Requirement already satisfied: colorama in c:\\programdata\\anaconda3\\lib\\site-packages (from qrcode) (0.4.6)\n"
     ]
    }
   ],
   "source": [
    "!pip install qrcode\n"
   ]
  },
  {
   "cell_type": "code",
   "execution_count": 41,
   "id": "32b5d359",
   "metadata": {},
   "outputs": [],
   "source": [
    "from PIL import Image, ImageDraw, ImageFont\n",
    "import random\n",
    "import os\n",
    "import datetime\n",
    "import qrcode"
   ]
  },
  {
   "cell_type": "code",
   "execution_count": 42,
   "id": "289e5450-d4f4-41c7-a849-f5be25f0f411",
   "metadata": {},
   "outputs": [],
   "source": [
    "image = Image.new('RGB', (1000,900), (255, 255, 255))\n",
    "draw = ImageDraw.Draw(image)"
   ]
  },
  {
   "cell_type": "code",
   "execution_count": 43,
   "id": "082f1b9d-948b-4578-826f-4b0266919e5d",
   "metadata": {},
   "outputs": [
    {
     "data": {
      "text/plain": [
       "1"
      ]
     },
     "execution_count": 43,
     "metadata": {},
     "output_type": "execute_result"
    }
   ],
   "source": [
    "font = ImageFont.truetype('arial.ttf', size=45)\n",
    "os.system(\"ID CARD Generator\")"
   ]
  },
  {
   "cell_type": "code",
   "execution_count": 44,
   "id": "4849cb87-1d9a-4379-bfb3-2ad77fd4e744",
   "metadata": {},
   "outputs": [
    {
     "name": "stdout",
     "output_type": "stream",
     "text": [
      "08-12-2023\t ID CARD Generator\t  04:48:34 PM\n"
     ]
    }
   ],
   "source": [
    "d_date = datetime.datetime.now()\n",
    "reg_format_date = d_date.strftime(\"%d-%m-%Y\\t ID CARD Generator\\t  %I:%M:%S %p\")\n",
    "print (reg_format_date)"
   ]
  },
  {
   "cell_type": "code",
   "execution_count": 45,
   "id": "3356d40c-5b85-414b-9eac-e65b1e4b0ba3",
   "metadata": {},
   "outputs": [
    {
     "name": "stdout",
     "output_type": "stream",
     "text": [
      "\n",
      "\n",
      "All Fields are Mandatory\n",
      "Avoid any kind of Spelling Mistakes\n",
      "Write Everything in uppercase letters\n",
      "\n",
      "Enter Your Company Name: Deccan\n"
     ]
    }
   ],
   "source": [
    "print('\\n\\nAll Fields are Mandatory') \n",
    "print('Avoid any kind of Spelling Mistakes')\n",
    "print('Write Everything in uppercase letters')\n",
    "(x, y) = (50, 50)\n",
    "message = input('\\nEnter Your Company Name: ')\n",
    "company=message\n",
    "color = 'rgb(0, 0, 0)'\n",
    "font = ImageFont.truetype('arial.ttf', size=80)\n",
    "draw.text((x, y), message, fill=color, font=font)"
   ]
  },
  {
   "cell_type": "code",
   "execution_count": 46,
   "id": "27f45a0e-924e-4701-8af0-68e4e9cc3e9e",
   "metadata": {},
   "outputs": [],
   "source": [
    "# adding an unique id number. You can manually take it from user\n",
    "(x, y) = (600, 75)\n",
    "idno=random.randint(10000000,90000000)\n",
    "message = str('ID '+str(idno))\n",
    "color = 'rgb(0, 0, 0)' # black color\n",
    "font = ImageFont.truetype('arial.ttf', size=60)\n",
    "draw.text((x, y), message, fill=color, font=font)"
   ]
  },
  {
   "cell_type": "code",
   "execution_count": 47,
   "id": "0cc0bb02-2d12-43c2-b397-7398050d35ed",
   "metadata": {},
   "outputs": [
    {
     "name": "stdout",
     "output_type": "stream",
     "text": [
      "Enter Your Full Name: kalpana\n"
     ]
    }
   ],
   "source": [
    "(x, y) = (50, 250)\n",
    "message = input('Enter Your Full Name: ')\n",
    "name=message\n",
    "color = 'rgb(0, 0, 0)' # black color\n",
    "font = ImageFont.truetype('arial.ttf', size=45)\n",
    "draw.text((x, y), message, fill=color, font=font)"
   ]
  },
  {
   "cell_type": "code",
   "execution_count": 48,
   "id": "6f16edf3-cd5c-423b-8f9d-8abc06419002",
   "metadata": {},
   "outputs": [
    {
     "name": "stdout",
     "output_type": "stream",
     "text": [
      "Enter Your Gender: Female\n",
      "Enter Your Age: 25\n"
     ]
    }
   ],
   "source": [
    "(x, y) = (50, 350)\n",
    "message = input('Enter Your Gender: ')\n",
    "color = 'rgb(0, 0, 0)' # black color \n",
    "draw.text((x, y), message, fill=color, font=font)\n",
    "(x, y) = (250, 350)\n",
    "message = input('Enter Your Age: ')\n",
    "color = 'rgb(0, 0, 0)' # black color \n",
    "draw.text((x, y), message, fill=color, font=font)"
   ]
  },
  {
   "cell_type": "code",
   "execution_count": 49,
   "id": "3199cfdc-af5d-4324-ba8b-55bc564c19f5",
   "metadata": {},
   "outputs": [
    {
     "name": "stdout",
     "output_type": "stream",
     "text": [
      "Enter Your Date Of Birth: 31/12/97\n"
     ]
    }
   ],
   "source": [
    "(x, y) = (50, 450)\n",
    "message = input('Enter Your Date Of Birth: ')\n",
    "color = 'rgb(0, 0, 0)' # black color \n",
    "draw.text((x, y), message, fill=color, font=font)"
   ]
  },
  {
   "cell_type": "code",
   "execution_count": 50,
   "id": "71806664-8ff6-40fb-bab4-bf2688875884",
   "metadata": {},
   "outputs": [
    {
     "name": "stdout",
     "output_type": "stream",
     "text": [
      "Enter Your Blood Group: b+\n"
     ]
    }
   ],
   "source": [
    "(x, y) = (50, 550)\n",
    "message = input('Enter Your Blood Group: ')\n",
    "color = 'rgb(255, 0, 0)' # black color \n",
    "draw.text((x, y), message, fill=color, font=font)"
   ]
  },
  {
   "cell_type": "code",
   "execution_count": 51,
   "id": "8626063c-c3dd-465a-9af4-0da0d2cd043f",
   "metadata": {},
   "outputs": [
    {
     "name": "stdout",
     "output_type": "stream",
     "text": [
      "Enter Your Mobile Number: 9012345678\n"
     ]
    }
   ],
   "source": [
    "(x, y) = (50, 650)\n",
    "message = input('Enter Your Mobile Number: ')\n",
    "temp=message\n",
    "color = 'rgb(0, 0, 0)' # black color \n",
    "draw.text((x, y), message, fill=color, font=font)"
   ]
  },
  {
   "cell_type": "code",
   "execution_count": 52,
   "id": "f130e5aa-7892-4c56-a7da-90512170baf6",
   "metadata": {},
   "outputs": [
    {
     "name": "stdout",
     "output_type": "stream",
     "text": [
      "Enter Your Address: villupuram\n"
     ]
    }
   ],
   "source": [
    "(x, y) = (50, 750)\n",
    "message = input('Enter Your Address: ')\n",
    "color = 'rgb(0, 0, 0)' # black color \n",
    "draw.text((x, y),message, fill=color, font=font)\n",
    "\n"
   ]
  },
  {
   "cell_type": "code",
   "execution_count": 53,
   "id": "2ba4b9a9-71ac-45a3-b30f-1998bcfda284",
   "metadata": {},
   "outputs": [],
   "source": [
    "image.save(str(name)+'.png')\n"
   ]
  },
  {
   "cell_type": "code",
   "execution_count": 54,
   "id": "5d2fdb71-ddda-452d-ad78-52089847f17b",
   "metadata": {},
   "outputs": [],
   "source": [
    "img = qrcode.make(str(company)+str(idno))   # this info. is added in QR code, also add other things\n",
    "img.save(str(idno)+'.bmp')"
   ]
  },
  {
   "cell_type": "code",
   "execution_count": 55,
   "id": "b47f92f3-e0e9-4f14-bde1-99c6b96d179d",
   "metadata": {},
   "outputs": [],
   "source": [
    "til = Image.open(name+'.png')\n",
    "im = Image.open(str(idno)+'.bmp') #25x25\n",
    "til.paste(im,(600,350))\n",
    "til.save(name+'.png')"
   ]
  },
  {
   "cell_type": "code",
   "execution_count": 56,
   "id": "e2896f4b",
   "metadata": {},
   "outputs": [
    {
     "name": "stdout",
     "output_type": "stream",
     "text": [
      "\n",
      "\n",
      "\n",
      "Your ID Card Successfully created in a PNG file kalpana.png\n"
     ]
    }
   ],
   "source": [
    "print(('\\n\\n\\nYour ID Card Successfully created in a PNG file '+name+'.png'))"
   ]
  },
  {
   "cell_type": "code",
   "execution_count": null,
   "id": "6fb55a7c",
   "metadata": {},
   "outputs": [],
   "source": []
  },
  {
   "cell_type": "code",
   "execution_count": null,
   "id": "28ba4325",
   "metadata": {},
   "outputs": [],
   "source": []
  },
  {
   "cell_type": "code",
   "execution_count": null,
   "id": "a5ddb4f8-1fc3-4577-9e3c-e00089cc9570",
   "metadata": {},
   "outputs": [],
   "source": []
  },
  {
   "cell_type": "markdown",
   "id": "c2d0663c",
   "metadata": {},
   "source": []
  }
 ],
 "metadata": {
  "kernelspec": {
   "display_name": "Python 3 (ipykernel)",
   "language": "python",
   "name": "python3"
  },
  "language_info": {
   "codemirror_mode": {
    "name": "ipython",
    "version": 3
   },
   "file_extension": ".py",
   "mimetype": "text/x-python",
   "name": "python",
   "nbconvert_exporter": "python",
   "pygments_lexer": "ipython3",
   "version": "3.11.5"
  }
 },
 "nbformat": 4,
 "nbformat_minor": 5
}
